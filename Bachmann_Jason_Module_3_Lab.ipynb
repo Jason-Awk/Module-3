{
 "cells": [
  {
   "cell_type": "code",
   "execution_count": 37,
   "id": "0924a941-acfc-41a8-b1f9-679261883b74",
   "metadata": {},
   "outputs": [
    {
     "name": "stdout",
     "output_type": "stream",
     "text": [
      "\n",
      "Automobile details:\n",
      " Vehicle Type: Car\n",
      "Year: 2022\n",
      "Make: Ford\n",
      "Model: Escape\n",
      "Doors: 4\n",
      "Roof: Solid Roof\n"
     ]
    }
   ],
   "source": [
    "vehicleone = Vehicle(\"Car\")\n",
    "\n",
    "automobile1 = Automobile(\"Car\", 2022, \"Ford\", \"Escape\", 4, \"Solid Roof\")\n",
    "\n",
    "class Vehicle:\n",
    "    def __init__(self, vehicle_type):\n",
    "        self.vehicle_type = vehicle_type\n",
    "    def __str__(self):\n",
    "        return (f\"Vehicle Type: {self.vehicle_type}\")\n",
    "\n",
    "class Automobile(Vehicle):\n",
    "    def __init__(self, vehicle_type, year, make, model, doors, roof):\n",
    "        super().__init__(vehicle_type)\n",
    "        self.year = year\n",
    "        self.make = make\n",
    "        self.model = model\n",
    "        self.doors = doors\n",
    "        self.roof = roof\n",
    "    def __str__(self):\n",
    "        return (f\"{super().__str__()}\\n\"\n",
    "                f\"Year: {self.year}\\n\"\n",
    "                f\"Make: {self.make}\\n\"\n",
    "                f\"Model: {self.model}\\n\"\n",
    "                f\"Doors: {self.doors}\\n\"\n",
    "                f\"Roof: {self.roof}\")\n",
    "\n",
    "print(\"\\nAutomobile details:\\n\", automobile1)"
   ]
  },
  {
   "cell_type": "code",
   "execution_count": 39,
   "id": "a376c285-a0de-4556-b058-a63c3a6472d4",
   "metadata": {},
   "outputs": [
    {
     "name": "stdin",
     "output_type": "stream",
     "text": [
      "What is the year of the car?  2022\n",
      "What is the make of the car?  Ford\n",
      "What is the model of the car?  Escape\n",
      "How many doors does the car have?  4\n",
      "What type of roof does the car have?  Solid Roof\n"
     ]
    },
    {
     "name": "stdout",
     "output_type": "stream",
     "text": [
      "Vehicle Type: Car\n",
      "\n",
      "Automobile details:\n",
      " Vehicle Type: Car\n",
      "Year: 2022\n",
      "Make: Ford\n",
      "Model: Escape\n",
      "Doors: 4\n",
      "Roof: Solid Roof\n"
     ]
    }
   ],
   "source": [
    "vehicle = Vehicle(\"Car\")\n",
    "\n",
    "year = int(input(\"What is the year of the car? \"))\n",
    "make = input(\"What is the make of the car? \")\n",
    "model = input(\"What is the model of the car? \")\n",
    "doors = int(input(\"How many doors does the car have? \"))\n",
    "roof = input(\"What type of roof does the car have? \")\n",
    "\n",
    "class Vehicle:\n",
    "    def __init__(self, vehicle_type):\n",
    "        self.vehicle_type = vehicle_type\n",
    "    def __str__(self):\n",
    "        return (f\"Vehicle Type: {self.vehicle_type}\")\n",
    "\n",
    "class Automobile(Vehicle):\n",
    "    def __init__(self, vehicle_type, year, make, model, doors, roof):\n",
    "        super().__init__(vehicle_type)\n",
    "        self.year = year\n",
    "        self.make = make\n",
    "        self.model = model\n",
    "        self.doors = doors\n",
    "        self.roof = roof\n",
    "    def __str__(self):\n",
    "        return (f\"{super().__str__()}\\n\"\n",
    "                f\"Year: {self.year}\\n\"\n",
    "                f\"Make: {self.make}\\n\"\n",
    "                f\"Model: {self.model}\\n\"\n",
    "                f\"Doors: {self.doors}\\n\"\n",
    "                f\"Roof: {self.roof}\")\n",
    "\n",
    "print(vehicle)\n",
    "print(\"\\nAutomobile details:\\n\", automobile1)"
   ]
  },
  {
   "cell_type": "code",
   "execution_count": null,
   "id": "7763421a-f71d-4d8a-94e4-d569a39fd923",
   "metadata": {},
   "outputs": [],
   "source": []
  }
 ],
 "metadata": {
  "kernelspec": {
   "display_name": "Python [conda env:base] *",
   "language": "python",
   "name": "conda-base-py"
  },
  "language_info": {
   "codemirror_mode": {
    "name": "ipython",
    "version": 3
   },
   "file_extension": ".py",
   "mimetype": "text/x-python",
   "name": "python",
   "nbconvert_exporter": "python",
   "pygments_lexer": "ipython3",
   "version": "3.12.7"
  }
 },
 "nbformat": 4,
 "nbformat_minor": 5
}
