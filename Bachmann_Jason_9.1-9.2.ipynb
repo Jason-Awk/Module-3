{
 "cells": [
  {
   "cell_type": "code",
   "execution_count": 9,
   "id": "eea8480f-7be1-47a0-8e13-e63f20350312",
   "metadata": {},
   "outputs": [
    {
     "name": "stdout",
     "output_type": "stream",
     "text": [
      "['Harry', 'Ron', 'Hermione']\n"
     ]
    }
   ],
   "source": [
    "def good():\n",
    "    return [\"Harry\", \"Ron\", \"Hermione\"]\n",
    "\n",
    "print (good())"
   ]
  },
  {
   "cell_type": "code",
   "execution_count": 11,
   "id": "dc46c50d-4486-4feb-aed9-b15d1f4d256a",
   "metadata": {},
   "outputs": [
    {
     "name": "stdout",
     "output_type": "stream",
     "text": [
      "The third odd number is  5\n"
     ]
    }
   ],
   "source": [
    "def get_odds():\n",
    "    for number in range(10):\n",
    "        if number % 2 != 0:\n",
    "            yield number\n",
    "\n",
    "odd_number = get_odds()\n",
    "count = 0\n",
    "\n",
    "for number in odd_number:\n",
    "    count += 1\n",
    "    if count == 3:\n",
    "        print (\"The third odd number is \", number)"
   ]
  }
 ],
 "metadata": {
  "kernelspec": {
   "display_name": "Python [conda env:base] *",
   "language": "python",
   "name": "conda-base-py"
  },
  "language_info": {
   "codemirror_mode": {
    "name": "ipython",
    "version": 3
   },
   "file_extension": ".py",
   "mimetype": "text/x-python",
   "name": "python",
   "nbconvert_exporter": "python",
   "pygments_lexer": "ipython3",
   "version": "3.12.7"
  }
 },
 "nbformat": 4,
 "nbformat_minor": 5
}
